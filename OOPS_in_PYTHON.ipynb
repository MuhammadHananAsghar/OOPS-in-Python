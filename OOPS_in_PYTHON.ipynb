{
  "nbformat": 4,
  "nbformat_minor": 0,
  "metadata": {
    "colab": {
      "name": "OOPS in PYTHON.ipynb",
      "provenance": [],
      "collapsed_sections": []
    },
    "kernelspec": {
      "display_name": "Python 3",
      "name": "python3"
    }
  },
  "cells": [
    {
      "cell_type": "markdown",
      "metadata": {
        "id": "cOE9bq-qQzWw"
      },
      "source": [
        "**OOPS in Python (Muhammad Hanan Asghar)**"
      ]
    },
    {
      "cell_type": "markdown",
      "metadata": {
        "id": "L9Z5ZVSM91nf"
      },
      "source": [
        "**Classes And Objects**"
      ]
    },
    {
      "cell_type": "code",
      "metadata": {
        "id": "7kHhIjvp75PI"
      },
      "source": [
        "class Student:\n",
        "  def __init__(self):\n",
        "    self.name = \"Hanan\"\n",
        "    self.age = 19\n",
        "    self.marks = 105\n",
        "  \n",
        "  def talk(self):\n",
        "    print(f\"\"\"\n",
        "    Name: {self.name}\n",
        "    Age: {self.age}\n",
        "    Marks: {self.marks}\n",
        "    \"\"\")"
      ],
      "execution_count": null,
      "outputs": []
    },
    {
      "cell_type": "code",
      "metadata": {
        "id": "EzmPxU2b8Ue6",
        "outputId": "85510628-7b3d-42d8-ca16-1eaa13af33b5",
        "colab": {
          "base_uri": "https://localhost:8080/",
          "height": 225
        }
      },
      "source": [
        "s1 = Student()\n",
        "s1.talk()\n",
        "s2 = Student()\n",
        "s2.name = \"Hanan Asghar\"\n",
        "s2.talk()\n",
        "print(id(s1), id(s2))\n",
        "print(s1.name, s2.name)"
      ],
      "execution_count": null,
      "outputs": [
        {
          "output_type": "stream",
          "text": [
            "\n",
            "    Name: Hanan\n",
            "    Age: 19\n",
            "    Marks: 105\n",
            "    \n",
            "\n",
            "    Name: Hanan Asghar\n",
            "    Age: 19\n",
            "    Marks: 105\n",
            "    \n",
            "140580601351416 140580601350184\n",
            "Hanan Hanan Asghar\n"
          ],
          "name": "stdout"
        }
      ]
    },
    {
      "cell_type": "markdown",
      "metadata": {
        "id": "VqOq7c08-2Ro"
      },
      "source": [
        "**Multiple Arguments in Class**"
      ]
    },
    {
      "cell_type": "code",
      "metadata": {
        "id": "6i7rrLhL8XtS",
        "outputId": "90819608-a470-475b-c52b-960dae4057b6",
        "colab": {
          "base_uri": "https://localhost:8080/",
          "height": 104
        }
      },
      "source": [
        "# Args\n",
        "class Student:\n",
        "  def __init__(self, n, a, *m):\n",
        "    self.name = n\n",
        "    self.age = a\n",
        "    self.marks = m\n",
        "  \n",
        "  def talk(self):\n",
        "    print(f\"\"\"\n",
        "    Name: {self.name}\n",
        "    Age: {self.age}\n",
        "    Marks: {self.marks}\n",
        "    \"\"\")\n",
        "s1 = Student(\"Hanan\",22,56,876,3453)\n",
        "s1.talk()"
      ],
      "execution_count": null,
      "outputs": [
        {
          "output_type": "stream",
          "text": [
            "\n",
            "    Name: Hanan\n",
            "    Age: 22\n",
            "    Marks: (56, 876, 3453)\n",
            "    \n"
          ],
          "name": "stdout"
        }
      ]
    },
    {
      "cell_type": "code",
      "metadata": {
        "id": "rsB8sRMd_Hu7",
        "outputId": "b23054ab-ce19-476a-a2bf-206d8e9fe932",
        "colab": {
          "base_uri": "https://localhost:8080/",
          "height": 104
        }
      },
      "source": [
        "# Kwargs\n",
        "class Student:\n",
        "  def __init__(self, n, a, **m):\n",
        "    self.name = n\n",
        "    self.age = a\n",
        "    self.marks = m\n",
        "  \n",
        "  def talk(self):\n",
        "    print(f\"\"\"\n",
        "    Name: {self.name}\n",
        "    Age: {self.age}\n",
        "    Marks: {self.marks}\n",
        "    \"\"\")\n",
        "s1 = Student(\"Hanan\",22,science = 56,urdu = 876,english = 3453)\n",
        "s1.talk()"
      ],
      "execution_count": null,
      "outputs": [
        {
          "output_type": "stream",
          "text": [
            "\n",
            "    Name: Hanan\n",
            "    Age: 22\n",
            "    Marks: {'science': 56, 'urdu': 876, 'english': 3453}\n",
            "    \n"
          ],
          "name": "stdout"
        }
      ]
    },
    {
      "cell_type": "markdown",
      "metadata": {
        "id": "FuPfxlyy_aYR"
      },
      "source": [
        "**Encapsulation**"
      ]
    },
    {
      "cell_type": "markdown",
      "metadata": {
        "id": "oQH2KMZUAndM"
      },
      "source": [
        "In OOPS you can restrict access to the methods and variables to prevent accidentaly change of thier values and conditions."
      ]
    },
    {
      "cell_type": "markdown",
      "metadata": {
        "id": "w8h656bTBMys"
      },
      "source": [
        "**1. In order to hide any variable in class declare as follows:**\n",
        "**self.__new = 45 (2 Dashes)**\n",
        "but we can change value of this hidden variable outside the class in order to prevent this problem we getters and setters.\n",
        "Getter means to get values.\n",
        "Setter means to set values.\n",
        "\n",
        "**Single dast (self._x) means partially private**"
      ]
    },
    {
      "cell_type": "code",
      "metadata": {
        "id": "LVVhAAj4Aw-9",
        "outputId": "44aaf5d7-70b7-44b0-f832-cb1ec15d588d",
        "colab": {
          "base_uri": "https://localhost:8080/",
          "height": 220
        }
      },
      "source": [
        "class Encapsulation:\n",
        "  def __init__(self):\n",
        "    self.name = \"Hanan\"\n",
        "    self.__age = 19\n",
        "\n",
        "e = Encapsulation()\n",
        "print(e.name)\n",
        "print(e.__age)"
      ],
      "execution_count": null,
      "outputs": [
        {
          "output_type": "stream",
          "text": [
            "Hanan\n"
          ],
          "name": "stdout"
        },
        {
          "output_type": "error",
          "ename": "AttributeError",
          "evalue": "ignored",
          "traceback": [
            "\u001b[0;31m---------------------------------------------------------------------------\u001b[0m",
            "\u001b[0;31mAttributeError\u001b[0m                            Traceback (most recent call last)",
            "\u001b[0;32m<ipython-input-14-32775c8e95e8>\u001b[0m in \u001b[0;36m<module>\u001b[0;34m()\u001b[0m\n\u001b[1;32m      6\u001b[0m \u001b[0me\u001b[0m \u001b[0;34m=\u001b[0m \u001b[0mEncapsulation\u001b[0m\u001b[0;34m(\u001b[0m\u001b[0;34m)\u001b[0m\u001b[0;34m\u001b[0m\u001b[0;34m\u001b[0m\u001b[0m\n\u001b[1;32m      7\u001b[0m \u001b[0mprint\u001b[0m\u001b[0;34m(\u001b[0m\u001b[0me\u001b[0m\u001b[0;34m.\u001b[0m\u001b[0mname\u001b[0m\u001b[0;34m)\u001b[0m\u001b[0;34m\u001b[0m\u001b[0;34m\u001b[0m\u001b[0m\n\u001b[0;32m----> 8\u001b[0;31m \u001b[0mprint\u001b[0m\u001b[0;34m(\u001b[0m\u001b[0me\u001b[0m\u001b[0;34m.\u001b[0m\u001b[0m__age\u001b[0m\u001b[0;34m)\u001b[0m\u001b[0;34m\u001b[0m\u001b[0;34m\u001b[0m\u001b[0m\n\u001b[0m",
            "\u001b[0;31mAttributeError\u001b[0m: 'Encapsulation' object has no attribute '__age'"
          ]
        }
      ]
    },
    {
      "cell_type": "code",
      "metadata": {
        "id": "N39XuznyBv6v",
        "outputId": "c38b545a-2c7a-4ca2-86e5-6566fd0048ad",
        "colab": {
          "base_uri": "https://localhost:8080/",
          "height": 52
        }
      },
      "source": [
        "# Getter In function get name is convention in python to declare getter.\n",
        "class Encapsulation:\n",
        "  def __init__(self):\n",
        "    self.name = \"Hanan\"\n",
        "    self.__age = 19\n",
        "  def get_age(self):\n",
        "    return self.__age\n",
        "\n",
        "e = Encapsulation()\n",
        "print(e.name)\n",
        "print(e.get_age())"
      ],
      "execution_count": null,
      "outputs": [
        {
          "output_type": "stream",
          "text": [
            "Hanan\n",
            "19\n"
          ],
          "name": "stdout"
        }
      ]
    },
    {
      "cell_type": "code",
      "metadata": {
        "id": "1Qt17LI8ClkN",
        "outputId": "bfa32c8f-dd6c-4507-e5e8-6aa533ed1151",
        "colab": {
          "base_uri": "https://localhost:8080/",
          "height": 69
        }
      },
      "source": [
        "# Setter In function set name is convention in python to declare setter.\n",
        "class Encapsulation:\n",
        "  def __init__(self):\n",
        "    self.name = \"Hanan\"\n",
        "    self.__age = 19\n",
        "  def get_age(self):\n",
        "    return self.__age\n",
        "  def set_age(self):\n",
        "    self.__age = 34\n",
        "\n",
        "e = Encapsulation()\n",
        "print(e.name)\n",
        "print(e.get_age())\n",
        "e.set_age()\n",
        "print(e.get_age())"
      ],
      "execution_count": null,
      "outputs": [
        {
          "output_type": "stream",
          "text": [
            "Hanan\n",
            "19\n",
            "34\n"
          ],
          "name": "stdout"
        }
      ]
    },
    {
      "cell_type": "markdown",
      "metadata": {
        "id": "tPNNl4gxDUGw"
      },
      "source": [
        "**2. In order to make private methods in python in** **OOPS concept we use two dashes like**\n",
        "**def __private_method(self):**"
      ]
    },
    {
      "cell_type": "code",
      "metadata": {
        "id": "ojUFfLIXCz3t"
      },
      "source": [
        "class Encapsulation:\n",
        "  def __init(self):\n",
        "    self.x = \"hanan\"\n",
        "  def __private_method(self):\n",
        "    return self.x"
      ],
      "execution_count": null,
      "outputs": []
    },
    {
      "cell_type": "markdown",
      "metadata": {
        "id": "-a7JR3IoEXbU"
      },
      "source": [
        "Inheritance"
      ]
    },
    {
      "cell_type": "code",
      "metadata": {
        "id": "ewig7qbbESq3",
        "outputId": "8c89d3ba-1a2a-4585-9538-797349dcebd5",
        "colab": {
          "base_uri": "https://localhost:8080/",
          "height": 34
        }
      },
      "source": [
        "class Polygon:\n",
        "  __height = None\n",
        "  __width = None\n",
        "\n",
        "  def set_value(self, height, width):\n",
        "    self.__height = height\n",
        "    self.__width = width\n",
        "  def get_area(self):\n",
        "    return (\"The Value is \",(self.__height)*(self.__width))\n",
        "\n",
        "class Calculate(Polygon):\n",
        "  def __init__(self):\n",
        "    self.set_value(10,20)\n",
        "    print(self.get_area())\n",
        "\n",
        "c = Calculate()"
      ],
      "execution_count": 30,
      "outputs": [
        {
          "output_type": "stream",
          "text": [
            "('The Value is ', 200)\n"
          ],
          "name": "stdout"
        }
      ]
    },
    {
      "cell_type": "markdown",
      "metadata": {
        "id": "CQfK30bzNk8V"
      },
      "source": [
        "**Multiple Inheritance**"
      ]
    },
    {
      "cell_type": "code",
      "metadata": {
        "id": "i525etZSFHUO",
        "outputId": "31b49ebb-df3b-48c7-c94c-e344bb777168",
        "colab": {
          "base_uri": "https://localhost:8080/",
          "height": 52
        }
      },
      "source": [
        "class Polygon:\n",
        "  __height = None\n",
        "  __width = None\n",
        "\n",
        "  def set_value(self, height, width):\n",
        "    self.__height = height\n",
        "    self.__width = width\n",
        "  def get_area(self):\n",
        "    return (self.__height)*(self.__width)\n",
        "\n",
        "class Square:\n",
        "  def set_square(self, height, breadth):\n",
        "    self.height = height\n",
        "    self.breadth = breadth\n",
        "  def get_square(self):\n",
        "    return (self.height)*(self.breadth)\n",
        "\n",
        "class Calculate(Polygon, Square):\n",
        "  def __init__(self):\n",
        "    self.set_value(10,20)\n",
        "    self.set_square(10,30)\n",
        "    print(\"The Value of Polygon is \",self.get_area())\n",
        "    print(\"The Value of Square is \", self.get_square())\n",
        "\n",
        "c = Calculate()"
      ],
      "execution_count": 31,
      "outputs": [
        {
          "output_type": "stream",
          "text": [
            "The Value of Polygon is  200\n",
            "The Value of Square is  300\n"
          ],
          "name": "stdout"
        }
      ]
    },
    {
      "cell_type": "markdown",
      "metadata": {
        "id": "5ftaUZCuO0Wo"
      },
      "source": [
        "**Super Function**\n",
        "\n",
        "> Super function initialize the all parent class from which this child class are inherited\n",
        "\n"
      ]
    },
    {
      "cell_type": "code",
      "metadata": {
        "id": "x3tzOekKONtd",
        "outputId": "2f55f745-655a-48a5-de49-4885ba7687e8",
        "colab": {
          "base_uri": "https://localhost:8080/",
          "height": 52
        }
      },
      "source": [
        "class Parent:\n",
        "  def __init__(self,name):\n",
        "    self.name =name\n",
        "    print(\"Parent Name is \", self.name)\n",
        "\n",
        "class Child(Parent):\n",
        "  def __init__(self):\n",
        "    super().__init__(\"Cat\")\n",
        "    print(\"Child of This Parent are Kittens.\")\n",
        "\n",
        "c = Child()"
      ],
      "execution_count": 36,
      "outputs": [
        {
          "output_type": "stream",
          "text": [
            "Parent Name is  Cat\n",
            "Child of This Parent are Kittens.\n"
          ],
          "name": "stdout"
        }
      ]
    },
    {
      "cell_type": "markdown",
      "metadata": {
        "id": "6Ko1RHosQ-Cu"
      },
      "source": [
        "**Naming Conventions**\n",
        "\n",
        "\n",
        "```\n",
        "1. The name of modules start with lower case letters.\n",
        "2. Name of class will be CamelCass.\n",
        "3. Global variables should all be lowercase.\n",
        "4. instance variables should all be lowercase.\n",
        "4. Static variables should be in capital letters.\n",
        "5. Name of methods in lowercase.\n",
        "6. instance method should have self keyword.And all parameters should be in lowercase.\n",
        "\n",
        "```\n",
        "\n"
      ]
    },
    {
      "cell_type": "markdown",
      "metadata": {
        "id": "4GstliWDSjli"
      },
      "source": [
        "**Composition**\n",
        "\n",
        "As we study inheritance another concpet came into field of OOPS when two classes highly depend on each other.\n",
        "\n",
        "\n",
        "\n",
        "```\n",
        "Like: Books are the part of Library.\n",
        "\n",
        "It is a (Part of) relationship.\n",
        "```\n",
        "\n"
      ]
    },
    {
      "cell_type": "code",
      "metadata": {
        "id": "zvUSmdEgQJKH",
        "outputId": "537f88dd-e6cc-4456-b1e7-317d84e263fd",
        "colab": {
          "base_uri": "https://localhost:8080/",
          "height": 34
        }
      },
      "source": [
        "class Salary:\n",
        "  def __init__(self,pay):\n",
        "    self.pay = pay\n",
        "  def annual_salary(self):\n",
        "    return self.pay*12\n",
        "\n",
        "class Employee:\n",
        "  def __init__(self,name,age,pay):\n",
        "    self.name = name\n",
        "    self.age = age\n",
        "    self.counted = Salary(pay)\n",
        "    print(self.counted.annual_salary())\n",
        "\n",
        "e = Employee(\"Muhammad Hanan\", 19, 1000000)"
      ],
      "execution_count": 39,
      "outputs": [
        {
          "output_type": "stream",
          "text": [
            "12000000\n"
          ],
          "name": "stdout"
        }
      ]
    },
    {
      "cell_type": "markdown",
      "metadata": {
        "id": "ZdozuoGAUpEB"
      },
      "source": [
        "**Aggregation**\n",
        "\n",
        "\n",
        "```\n",
        "Bank has a employee.\n",
        "employee has a salary.\n",
        "It is a (has a) relationship.\n",
        "```\n",
        "\n"
      ]
    },
    {
      "cell_type": "code",
      "metadata": {
        "id": "rpDi3I1UTU7R",
        "outputId": "9252192d-8ccf-48c4-d523-f955a3c9039a",
        "colab": {
          "base_uri": "https://localhost:8080/",
          "height": 34
        }
      },
      "source": [
        "class Salary:\n",
        "  def __init__(self,pay):\n",
        "    self.pay = pay\n",
        "  def annual_salary(self):\n",
        "    return self.pay*12\n",
        "\n",
        "class Employee:\n",
        "  def __init__(self,name,age,sal):\n",
        "    self.name = name\n",
        "    self.age = age\n",
        "    self.counted = sal\n",
        "    print(self.counted.annual_salary())\n",
        "s = Salary(1000000)\n",
        "e = Employee(\"Muhammad Hanan\", 19, s)"
      ],
      "execution_count": 40,
      "outputs": [
        {
          "output_type": "stream",
          "text": [
            "12000000\n"
          ],
          "name": "stdout"
        }
      ]
    },
    {
      "cell_type": "markdown",
      "metadata": {
        "id": "_uk9f-wzWI4i"
      },
      "source": [
        "**Abstract Classes and Methods**\n",
        "\n",
        "\n",
        "```\n",
        "I don't want ot allow user to create object of my parent class.\n",
        "And I don't want ot allow users to use my Parent class functions or methods such type of classes and methods are called Abstract Classes and Abstract Methods.\n",
        "```\n",
        "\n",
        "\n",
        "\n",
        "> In order to make any class Abstract Class we must inherit this class from ABC Class by import from the following line \n",
        "\n",
        "> from abc import ABC, abstractmethod\n",
        "\n",
        "\n",
        "\n",
        "> In order to make any module abstract module we must add abstractmethod decorator above it.Like @abstractmethod\n",
        "\n",
        "\n",
        "\n",
        "> It is mandotary for anyone who use the abstract class or inherit from abstract class he must make same methods in his main class same that are present in abstract class example are belown\n",
        "\n",
        "\n",
        "\n",
        "\n",
        "\n",
        "\n",
        "\n"
      ]
    },
    {
      "cell_type": "code",
      "metadata": {
        "id": "B7uI5Nw4V1Tu",
        "outputId": "1ace7229-9a7e-4a85-bbd4-3804419b04a2",
        "colab": {
          "base_uri": "https://localhost:8080/",
          "height": 34
        }
      },
      "source": [
        "from abc import ABC, abstractmethod\n",
        "\n",
        "class Shape(ABC):\n",
        "  @abstractmethod\n",
        "  def area(self):\n",
        "    pass\n",
        "  @abstractmethod\n",
        "  def perimeter(self):\n",
        "    pass\n",
        "\n",
        "class Square(Shape):\n",
        "  def __init__(self, side):\n",
        "    self.__side = side\n",
        "  \n",
        "  def area(self):\n",
        "    return self.__side*self.__side\n",
        "  \n",
        "  def perimeter(self):\n",
        "    return self.__side*4\n",
        "\n",
        "sq = Square(12)\n",
        "print(sq.area())"
      ],
      "execution_count": 45,
      "outputs": [
        {
          "output_type": "stream",
          "text": [
            "144\n"
          ],
          "name": "stdout"
        }
      ]
    },
    {
      "cell_type": "markdown",
      "metadata": {
        "id": "47diyLYUZ-ii"
      },
      "source": [
        "**What is Polymorphism :**\n",
        " The word polymorphism means having many forms. In programming, polymorphism means same function name (but different signatures) being uses for different types."
      ]
    },
    {
      "cell_type": "code",
      "metadata": {
        "id": "qmW81k_9XM5o",
        "outputId": "b40eff22-0476-4365-fb46-5405acc7fd7b",
        "colab": {
          "base_uri": "https://localhost:8080/",
          "height": 104
        }
      },
      "source": [
        "class Books:\n",
        "  def __init__(self,pages):\n",
        "    self.pages = pages\n",
        "# For add\n",
        "  def __add__(self,other):\n",
        "    return self.pages+other.pages\n",
        "# For Subtract\n",
        "  def __sub__(self, other):\n",
        "    return self.pages - other.pages\n",
        "# For multiplication\n",
        "  def __mul__(self, other):\n",
        "    return self.pages * other.pages\n",
        "# For greator than\n",
        "  def __gt__(self, other):\n",
        "    return self.pages > other.pages\n",
        "# For less than\n",
        "  def __lt__(self, other):\n",
        "    return self.pages < other.pages\n",
        "\n",
        "b1 = Books(100)\n",
        "b2 = Books(32400)\n",
        "\n",
        "print(b1+b2)\n",
        "print(b1-b2)\n",
        "print(b1*b2)\n",
        "print(b1>b2)\n",
        "print(b1<b2)"
      ],
      "execution_count": 49,
      "outputs": [
        {
          "output_type": "stream",
          "text": [
            "32500\n",
            "-32300\n",
            "3240000\n",
            "False\n",
            "True\n"
          ],
          "name": "stdout"
        }
      ]
    },
    {
      "cell_type": "code",
      "metadata": {
        "id": "5_neX7-fag_F"
      },
      "source": [
        ""
      ],
      "execution_count": null,
      "outputs": []
    }
  ]
}